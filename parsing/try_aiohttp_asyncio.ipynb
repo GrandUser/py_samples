{
 "cells": [
  {
   "cell_type": "code",
   "execution_count": 21,
   "metadata": {
    "collapsed": true
   },
   "outputs": [],
   "source": [
    "urls = ['http://httpbin.org/headers', 'http://httpbin.org/get', 'http://httpbin.org/user-agent']\n"
   ]
  },
  {
   "cell_type": "code",
   "execution_count": 22,
   "metadata": {
    "collapsed": false
   },
   "outputs": [
    {
     "name": "stdout",
     "output_type": "stream",
     "text": [
      "<Response [200]>\n",
      "<Response [200]>\n",
      "<Response [200]>\n",
      "CPU times: user 10 ms, sys: 0 ns, total: 10 ms\n",
      "Wall time: 1.08 s\n"
     ]
    }
   ],
   "source": [
    "import requests\n",
    "\n",
    "def hello(urls):\n",
    "    for url in urls:\n",
    "        print(requests.get(url))\n",
    "\n",
    "%time hello(urls)"
   ]
  },
  {
   "cell_type": "code",
   "execution_count": 31,
   "metadata": {
    "collapsed": false
   },
   "outputs": [
    {
     "name": "stdout",
     "output_type": "stream",
     "text": [
      "b'{\\n  \"user-agent\": \"Python/3.5 aiohttp/1.0.2\"\\n}\\n'\n",
      "b'{\\n  \"headers\": {\\n    \"Accept\": \"*/*\", \\n    \"Accept-Encoding\": \"gzip, deflate\", \\n    \"Content-Length\": \"0\", \\n    \"Host\": \"httpbin.org\", \\n    \"User-Agent\": \"Python/3.5 aiohttp/1.0.2\"\\n  }\\n}\\n'\n",
      "b'{\\n  \"args\": {}, \\n  \"headers\": {\\n    \"Accept\": \"*/*\", \\n    \"Accept-Encoding\": \"gzip, deflate\", \\n    \"Content-Length\": \"0\", \\n    \"Host\": \"httpbin.org\", \\n    \"User-Agent\": \"Python/3.5 aiohttp/1.0.2\"\\n  }, \\n  \"origin\": \"89.175.96.54\", \\n  \"url\": \"http://httpbin.org/get\"\\n}\\n'\n",
      "CPU times: user 10 ms, sys: 0 ns, total: 10 ms\n",
      "Wall time: 390 ms\n"
     ]
    },
    {
     "data": {
      "text/plain": [
       "({<Task finished coro=<hello() done, defined at <ipython-input-31-55c68603a29a>:6> result=None>,\n",
       "  <Task finished coro=<hello() done, defined at <ipython-input-31-55c68603a29a>:6> result=None>,\n",
       "  <Task finished coro=<hello() done, defined at <ipython-input-31-55c68603a29a>:6> result=None>},\n",
       " set())"
      ]
     },
     "execution_count": 31,
     "metadata": {},
     "output_type": "execute_result"
    }
   ],
   "source": [
    "#!/usr/local/bin/python3.5\n",
    "\n",
    "import asyncio\n",
    "from aiohttp import ClientSession\n",
    "\n",
    "async def hello(url):\n",
    "    async with ClientSession() as session:\n",
    "        async with session.get(url) as response:\n",
    "            response = await response.read()\n",
    "            print(response)\n",
    "\n",
    "loop = asyncio.get_event_loop()\n",
    "\n",
    "tasks = []\n",
    "for url in urls:\n",
    "    task = asyncio.ensure_future(hello(url))\n",
    "    tasks.append(task)\n",
    "\n",
    "# 1 task\n",
    "#%time loop.run_until_complete(hello())\n",
    "# many tasks\n",
    "%time loop.run_until_complete(asyncio.wait(tasks))                                "
   ]
  }
 ],
 "metadata": {
  "kernelspec": {
   "display_name": "Python 3",
   "language": "python",
   "name": "python3"
  },
  "language_info": {
   "codemirror_mode": {
    "name": "ipython",
    "version": 3
   },
   "file_extension": ".py",
   "mimetype": "text/x-python",
   "name": "python",
   "nbconvert_exporter": "python",
   "pygments_lexer": "ipython3",
   "version": "3.5.1"
  },
  "widgets": {
   "state": {},
   "version": "1.1.2"
  }
 },
 "nbformat": 4,
 "nbformat_minor": 0
}

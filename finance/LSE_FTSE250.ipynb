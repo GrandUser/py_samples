{
 "cells": [
  {
   "cell_type": "code",
   "execution_count": null,
   "metadata": {
    "collapsed": true
   },
   "outputs": [],
   "source": [
    "from grab import Grab\n",
    "'''grab symbol urls from LSE and write them to the file'''\n",
    "\n",
    "\n",
    "g = Grab()\n",
    "url = 'http://www.londonstockexchange.com/exchange/prices-and-markets/stocks/indices/constituents-indices.html?index=MCX&page='\n",
    "url_pageLst = []\n",
    "url_stocksLst = []\n",
    "count_urls = 0\n",
    "\n",
    "for i in range(1,14):\n",
    "    url_num = url + str(i)\n",
    "    url_pageLst.append(url_num)\n",
    "\n",
    "for elem in url_pageLst:\n",
    "    g.go(elem)\n",
    "    for i in g.doc.select('//*[@id=\"fullcontainer\"]/div/table/tbody/tr/td[2]/a'):\n",
    "        count_urls+=1\n",
    "        url_stocksLst.append('http://www.londonstockexchange.com' + i.attr('href'))\n",
    "\n",
    "print(count_urls)\n",
    "#print(url_stocksLst)"
   ]
  },
  {
   "cell_type": "code",
   "execution_count": null,
   "metadata": {
    "collapsed": true
   },
   "outputs": [],
   "source": [
    "import time\n",
    "\"\"\"\n",
    "write to the file IHE/Description/Link\n",
    "\"\"\"\n",
    "with open('symbols_FTSE250.txt', 'wt') as f:\n",
    "    ihe_dict={}\n",
    "    for y in url_stocksLst:\n",
    "        time.sleep(3)\n",
    "        g.go(y)\n",
    "        try:\n",
    "            for w in g.doc.select('//*[@id=\"box-testata\"]/div/h1'):\n",
    "                print(((y.split(\".\")[-2].split('/')[-1])+' '+w.text()))\n",
    "                ihe_dict[(str(y.split(\".\")[-2].split('/')[-1]))[:-9]]=(w.text() +' '+y)\n",
    "                print(ihe_dict)\n",
    "                f.write((y.split(\".\")[-2].split('/')[-1])+' '+w.text())\n",
    "                f.write('\\n')\n",
    "        except:\n",
    "            pass\n",
    "\n",
    "print('FINISH')"
   ]
  },
  {
   "cell_type": "code",
   "execution_count": null,
   "metadata": {
    "collapsed": true
   },
   "outputs": [],
   "source": [
    "\"\"\"\n",
    "create list with CQG symbols\n",
    "\"\"\"\n",
    "\n",
    "cqg='''GB00B61D2N63\n",
    "GB00BK1PTB77\n",
    "GB00BVGBWW93\n",
    "GB00BQQMCJ47\n",
    "GB00BLRLH124\n",
    "GB0000282623\n",
    "'''\n",
    "cqg_lst=cqg.split('\\n')"
   ]
  },
  {
   "cell_type": "code",
   "execution_count": null,
   "metadata": {
    "collapsed": true
   },
   "outputs": [],
   "source": [
    "\"\"\"\n",
    "create final file with diff names between ALL-CQG\n",
    "\"\"\"\n",
    "diff_lst={}\n",
    "nums=0\n",
    "for k,v in ihe_dict.items():\n",
    "    if k in cqg_lst:\n",
    "        continue\n",
    "    else:\n",
    "        nums+=1\n",
    "        diff_lst[k]=v\n",
    "print(diff_lst)\n",
    "print(nums)\n",
    "with open('diffFTSE.txt', 'wt') as f:\n",
    "    for k,v in diff_lst.items():\n",
    "        f.write(k)\n",
    "        f.write('  ')\n",
    "        f.write(v)\n",
    "        f.write('\\n')"
   ]
  }
 ],
 "metadata": {
  "kernelspec": {
   "display_name": "Python 3",
   "language": "python",
   "name": "python3"
  },
  "language_info": {
   "codemirror_mode": {
    "name": "ipython",
    "version": 3.0
   },
   "file_extension": ".py",
   "mimetype": "text/x-python",
   "name": "python",
   "nbconvert_exporter": "python",
   "pygments_lexer": "ipython3",
   "version": "3.4.3"
  }
 },
 "nbformat": 4,
 "nbformat_minor": 0
}
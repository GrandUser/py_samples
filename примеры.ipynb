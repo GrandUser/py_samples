{
 "cells": [
  {
   "cell_type": "code",
   "execution_count": 2,
   "metadata": {
    "collapsed": false
   },
   "outputs": [
    {
     "name": "stdout",
     "output_type": "stream",
     "text": [
      "{'o': 1, 'h': 1, 't': 1, 's': 1, ' ': 2, 'm': 2, 'i': 1, 'a': 1, 'n': 1, 'e': 1, 'y': 1, 'w': 1}\n",
      "{1: ['o', 'h', 't', 's', 'i', 'a', 'n', 'e', 'y', 'w'], 2: [' ', 'm']}\n"
     ]
    }
   ],
   "source": [
    "'''Подсчитаем, сколько раз в строке встречается каждый символ:'''\n",
    "\n",
    "def histogram(s):\n",
    "    d = dict()\n",
    "    for c in s:\n",
    "        if c not in d:d[c] = 1\n",
    "        else:d[c] += 1\n",
    "    return d\n",
    "hist = histogram('how many times')\n",
    "print(hist)\n",
    "\n",
    "\n",
    "'''Если нам нужно инвертировать данный словарь и в качестве ключа поставить частоту:'''\n",
    "\n",
    "def invert_dict(d):\n",
    "    inv = dict()\n",
    "    for key in d:\n",
    "        val = d[key]\n",
    "        if val not in inv:inv[val] = [key]\n",
    "        else:inv[val].append(key)\n",
    "    return inv\n",
    "print(invert_dict(hist))\n"
   ]
  },
  {
   "cell_type": "code",
   "execution_count": 1,
   "metadata": {
    "collapsed": false
   },
   "outputs": [
    {
     "data": {
      "text/plain": [
       "101902"
      ]
     },
     "execution_count": 1,
     "metadata": {},
     "output_type": "execute_result"
    }
   ],
   "source": [
    "def appendsums(lst):\n",
    "    \"\"\"\n",
    "    Repeatedly append the sum of the current last three elements of lst to lst.\n",
    "    \"\"\"\n",
    "    i = 25\n",
    "    while i != 0:\n",
    "        i-=1\n",
    "        last_sum = lst[-1] + lst[-2] + lst[-3]\n",
    "        lst.append(last_sum)\n",
    "    #print(lst)\n",
    "    return lst\n",
    "\n",
    "\n",
    "sum_three = [0, 1, 2]\n",
    "appendsums(sum_three)\n",
    "sum_three[20]\n"
   ]
  },
  {
   "cell_type": "code",
   "execution_count": 16,
   "metadata": {
    "collapsed": false
   },
   "outputs": [
    {
     "name": "stdout",
     "output_type": "stream",
     "text": [
      "3 15\n"
     ]
    }
   ],
   "source": [
    "class BankAccount:\n",
    "    \"\"\" Class definition modeling the behavior of a simple bank account \"\"\"\n",
    "    fee = 5\n",
    "    total_fees = 0\n",
    "    def __init__(self, initial_balance):\n",
    "        \"\"\"Creates an account with the given balance.\"\"\"\n",
    "        self.initial_balance = initial_balance\n",
    "        \n",
    "    def deposit(self, amount):\n",
    "        \"\"\"Deposits the amount into the account.\"\"\"\n",
    "        self.amount = amount\n",
    "        self.initial_balance = self.initial_balance + self.amount\n",
    "        return self.initial_balance + self.amount\n",
    "        \n",
    "    def withdraw(self, amount):\n",
    "        \"\"\"\n",
    "        Withdraws the amount from the account.  Each withdrawal resulting in a\n",
    "        negative balance also deducts a penalty fee of 5 dollars from the balance.\n",
    "        \"\"\"\n",
    "        self.amount = amount\n",
    "        self.initial_balance = self.initial_balance - self.amount \n",
    "        if self.initial_balance < 0:\n",
    "            self.initial_balance = self.initial_balance - self.fee\n",
    "            self.total_fees += 5\n",
    "        else:\n",
    "            pass\n",
    "        return self.initial_balance\n",
    "    \n",
    "    def get_balance(self):\n",
    "        \"\"\"Returns the current balance in the account.\"\"\"\n",
    "        return self.initial_balance\n",
    "    def get_fees(self):\n",
    "        \"\"\"Returns the total fees ever deducted from the account.\"\"\"\n",
    "        return self.total_fees\n",
    "        \n",
    "my_account = BankAccount(10)\n",
    "my_account.withdraw(15)\n",
    "my_account.deposit(20)\n",
    "\n",
    "print(my_account.get_balance(), my_account.get_fees())"
   ]
  }
 ],
 "metadata": {
  "kernelspec": {
   "display_name": "Python 3",
   "language": "python",
   "name": "python3"
  },
  "language_info": {
   "codemirror_mode": {
    "name": "ipython",
    "version": 3
   },
   "file_extension": ".py",
   "mimetype": "text/x-python",
   "name": "python",
   "nbconvert_exporter": "python",
   "pygments_lexer": "ipython3",
   "version": "3.4.1"
  }
 },
 "nbformat": 4,
 "nbformat_minor": 0
}

{
 "cells": [
  {
   "cell_type": "code",
   "execution_count": 2,
   "metadata": {
    "collapsed": false
   },
   "outputs": [
    {
     "name": "stdout",
     "output_type": "stream",
     "text": [
      "{'o': 1, 'h': 1, 't': 1, 's': 1, ' ': 2, 'm': 2, 'i': 1, 'a': 1, 'n': 1, 'e': 1, 'y': 1, 'w': 1}\n",
      "{1: ['o', 'h', 't', 's', 'i', 'a', 'n', 'e', 'y', 'w'], 2: [' ', 'm']}\n"
     ]
    }
   ],
   "source": [
    "'''Подсчитаем, сколько раз в строке встречается каждый символ:'''\n",
    "\n",
    "def histogram(s):\n",
    "    d = dict()\n",
    "    for c in s:\n",
    "        if c not in d:d[c] = 1\n",
    "        else:d[c] += 1\n",
    "    return d\n",
    "hist = histogram('how many times')\n",
    "print(hist)\n",
    "\n",
    "\n",
    "'''Если нам нужно инвертировать данный словарь и в качестве ключа поставить частоту:'''\n",
    "\n",
    "def invert_dict(d):\n",
    "    inv = dict()\n",
    "    for key in d:\n",
    "        val = d[key]\n",
    "        if val not in inv:inv[val] = [key]\n",
    "        else:inv[val].append(key)\n",
    "    return inv\n",
    "print(invert_dict(hist))\n"
   ]
  },
  {
   "cell_type": "code",
   "execution_count": null,
   "metadata": {
    "collapsed": true
   },
   "outputs": [],
   "source": [
    "\n"
   ]
  }
 ],
 "metadata": {
  "kernelspec": {
   "display_name": "Python 3",
   "language": "python",
   "name": "python3"
  },
  "language_info": {
   "codemirror_mode": {
    "name": "ipython",
    "version": 3
   },
   "file_extension": ".py",
   "mimetype": "text/x-python",
   "name": "python",
   "nbconvert_exporter": "python",
   "pygments_lexer": "ipython3",
   "version": "3.4.1"
  }
 },
 "nbformat": 4,
 "nbformat_minor": 0
}

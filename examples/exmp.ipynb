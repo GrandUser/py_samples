{
 "cells": [
  {
   "cell_type": "code",
   "execution_count": 2,
   "metadata": {},
   "outputs": [
    {
     "name": "stdout",
     "output_type": "stream",
     "text": [
      "{'o': 1, 'h': 1, 't': 1, 's': 1, ' ': 2, 'm': 2, 'i': 1, 'a': 1, 'n': 1, 'e': 1, 'y': 1, 'w': 1}\n",
      "{1: ['o', 'h', 't', 's', 'i', 'a', 'n', 'e', 'y', 'w'], 2: [' ', 'm']}\n"
     ]
    }
   ],
   "source": [
    "'''Подсчитаем, сколько раз в строке встречается каждый символ:'''\n",
    "\n",
    "def histogram(s):\n",
    "    d = dict()\n",
    "    for c in s:\n",
    "        if c not in d:d[c] = 1\n",
    "        else:d[c] += 1\n",
    "    return d\n",
    "hist = histogram('how many times')\n",
    "print(hist)\n",
    "\n",
    "\n",
    "'''Если нам нужно инвертировать данный словарь и в качестве ключа поставить частоту:'''\n",
    "\n",
    "def invert_dict(d):\n",
    "    inv = dict()\n",
    "    for key in d:\n",
    "        val = d[key]\n",
    "        if val not in inv:inv[val] = [key]\n",
    "        else:inv[val].append(key)\n",
    "    return inv\n",
    "print(invert_dict(hist))"
   ]
  },
  {
   "cell_type": "code",
   "execution_count": 1,
   "metadata": {},
   "outputs": [
    {
     "data": {
      "text/plain": [
       "101902"
      ]
     },
     "execution_count": 1,
     "output_type": "execute_result",
     "metadata": {}
    }
   ],
   "source": [
    "def appendsums(lst):\n",
    "    \"\"\"\n",
    "    Repeatedly append the sum of the current last three elements of lst to lst.\n",
    "    \"\"\"\n",
    "    i = 25\n",
    "    while i != 0:\n",
    "        i-=1\n",
    "        last_sum = lst[-1] + lst[-2] + lst[-3]\n",
    "        lst.append(last_sum)\n",
    "    #print(lst)\n",
    "    return lst\n",
    "\n",
    "\n",
    "sum_three = [0, 1, 2]\n",
    "appendsums(sum_three)\n",
    "sum_three[20]"
   ]
  },
  {
   "cell_type": "code",
   "execution_count": 16,
   "metadata": {},
   "outputs": [
    {
     "name": "stdout",
     "output_type": "stream",
     "text": [
      "3 15\n"
     ]
    }
   ],
   "source": [
    "class BankAccount:\n",
    "    \"\"\" Class definition modeling the behavior of a simple bank account \"\"\"\n",
    "    fee = 5\n",
    "    total_fees = 0\n",
    "    def __init__(self, initial_balance):\n",
    "        \"\"\"Creates an account with the given balance.\"\"\"\n",
    "        self.initial_balance = initial_balance\n",
    "        \n",
    "    def deposit(self, amount):\n",
    "        \"\"\"Deposits the amount into the account.\"\"\"\n",
    "        self.amount = amount\n",
    "        self.initial_balance = self.initial_balance + self.amount\n",
    "        return self.initial_balance + self.amount\n",
    "        \n",
    "    def withdraw(self, amount):\n",
    "        \"\"\"\n",
    "        Withdraws the amount from the account.  Each withdrawal resulting in a\n",
    "        negative balance also deducts a penalty fee of 5 dollars from the balance.\n",
    "        \"\"\"\n",
    "        self.amount = amount\n",
    "        self.initial_balance = self.initial_balance - self.amount \n",
    "        if self.initial_balance < 0:\n",
    "            self.initial_balance = self.initial_balance - self.fee\n",
    "            self.total_fees += 5\n",
    "        else:\n",
    "            pass\n",
    "        return self.initial_balance\n",
    "    \n",
    "    def get_balance(self):\n",
    "        \"\"\"Returns the current balance in the account.\"\"\"\n",
    "        return self.initial_balance\n",
    "    def get_fees(self):\n",
    "        \"\"\"Returns the total fees ever deducted from the account.\"\"\"\n",
    "        return self.total_fees\n",
    "        \n",
    "my_account = BankAccount(10)\n",
    "my_account.withdraw(15)\n",
    "my_account.deposit(20)\n",
    "\n",
    "print(my_account.get_balance(), my_account.get_fees())"
   ]
  },
  {
   "cell_type": "code",
   "execution_count": null,
   "metadata": {},
   "outputs": [],
   "source": [
    "\"\"\"True если Isograms\"\"\"\n",
    "string = 'asdrwerwsfsdkgfertfer'\n",
    "len(string) == len(set(string.lower()))"
   ]
  },
  {
   "cell_type": "code",
   "execution_count": 1,
   "metadata": {},
   "outputs": [
    {
     "data": {
      "text/plain": [
       "'Even'"
      ]
     },
     "execution_count": 1,
     "output_type": "execute_result",
     "metadata": {}
    }
   ],
   "source": [
    "def even_or_odd(number):\n",
    "    \"input number = odd or even\"\n",
    "    \n",
    "    if number % 2 == 0:\n",
    "        return (\"Even\")\n",
    "    else:\n",
    "        return (\"Odd\")\n",
    "\n",
    "even_or_odd(8)"
   ]
  },
  {
   "cell_type": "code",
   "execution_count": 4,
   "metadata": {},
   "outputs": [
    {
     "name": "stdout",
     "output_type": "stream",
     "text": [
      "triangle sides are:  906.474 647.322 634.562\n",
      "rounded angles list:  [44.43295, 45.57365, 90.00666]\n"
     ]
    },
    {
     "data": {
      "text/plain": [
       "3"
      ]
     },
     "execution_count": 4,
     "output_type": "execute_result",
     "metadata": {}
    }
   ],
   "source": [
    "import math\n",
    "\n",
    "\n",
    "def find_angle(_length_of_triangle):\n",
    "    \"\"\"find angle of triangle\"\"\"\n",
    "\n",
    "    a = _length_of_triangle[0]\n",
    "    b = _length_of_triangle[1]\n",
    "    c = _length_of_triangle[2]\n",
    "    \n",
    "    # calculate arccos formula \n",
    "\n",
    "    try:\n",
    "        triangle_acos = float((a**2) + (b**2) - (c**2))/float(2*a*b)\n",
    "    except ZeroDivisionError:\n",
    "        triangle_acos = 0\n",
    "        \n",
    "    \n",
    "    # print(\"arccos of this angle is: \", triangle_acos)\n",
    "    # calc angle thought arccos in radians    \n",
    "    try:\n",
    "        angle_in_radians = math.acos(triangle_acos)\n",
    "    except ValueError as e:\n",
    "        angle_in_radians = 0\n",
    "    # angle in degrees\n",
    "    angle = angle_in_radians * 57.30\n",
    "    # print(\"angle in degrees is: \", angle)\n",
    "    return angle\n",
    "\n",
    "\n",
    "def all_angles_list(a,b,c):\n",
    "    i = 3\n",
    "    angle_lst = []\n",
    "\n",
    "    while i>0:\n",
    "        if i == 3:\n",
    "            length_of_triangle = a,b,c\n",
    "        elif i == 2:\n",
    "            length_of_triangle = a,c,b\n",
    "        elif i == 1:\n",
    "            length_of_triangle = c,b,a\n",
    "        # print(\"triangle sides are: \", length_of_triangle)\n",
    "        aangle = round(find_angle(length_of_triangle), 5)\n",
    "        \n",
    "        angle_lst.append(aangle)\n",
    "        i-=1\n",
    "    return angle_lst\n",
    "\n",
    "\n",
    "def triangle_type(a,b,c):\n",
    "    ang_list = all_angles_list(a,b,c)\n",
    "    print(\"triangle sides are: \", a, b, c)\n",
    "    print(\"rounded angles list: \", sorted(ang_list))\n",
    "    # print(\"sum of all angles is: \", sum(ang_list))\n",
    "\n",
    "    for i in sorted(ang_list):\n",
    "        if i == 0.0:\n",
    "            return 0\n",
    "        elif i == 90:\n",
    "            \"if 1 angle is 90 -> right\"\n",
    "            return 2\n",
    "        elif i > 90:\n",
    "            \"if 1 angle is more then 90 -> obtuse\"\n",
    "            return 3\n",
    "        elif i < 90:\n",
    "            \"if all 3 angles are less then 90 -> triangle is acute\"\n",
    "            continue\n",
    "    return 1\n",
    "\n",
    "       \n",
    "x = 906.474\n",
    "y = 647.322\n",
    "z = 634.562\n",
    "triangle_type(x,y,z)"
   ]
  },
  {
   "cell_type": "code",
   "execution_count": 2,
   "metadata": {},
   "outputs": [
    {
     "name": "stdout",
     "output_type": "stream",
     "text": [
      "123456\n",
      "2\n"
     ]
    },
    {
     "data": {
      "text/plain": [
       "'123,456'"
      ]
     },
     "execution_count": 2,
     "output_type": "execute_result",
     "metadata": {}
    }
   ],
   "source": [
    "def to_currency(price): \n",
    "    \"\"\"\n",
    "    число переводим в строку и разбиваем по 3 знака с конца, как у валют\n",
    "    def to_currency(price):\n",
    "      return '{:,}'.format(price)\n",
    "    \"\"\"\n",
    "    price = str(price)\n",
    "    if len(price) % 3 == 0:\n",
    "        step = int(round(len(price)//3))\n",
    "    else:\n",
    "        step = int(round(len(price)//3 + 1))\n",
    "        \n",
    "    print(price)\n",
    "    print(step)\n",
    "    lst = []\n",
    "    for i in range(1,step + 1):\n",
    "        if len(price) > 3:\n",
    "            lst.append(price[-3:])\n",
    "            price = price[:-3]\n",
    "        else:\n",
    "            lst.append(price)\n",
    "    lst.reverse()\n",
    "    return ','.join(lst)\n",
    "\n",
    "price = 123456\n",
    "to_currency(price)"
   ]
  },
  {
   "cell_type": "code",
   "execution_count": 6,
   "metadata": {},
   "outputs": [
    {
     "data": {
      "text/plain": [
       "'1'"
      ]
     },
     "execution_count": 6,
     "output_type": "execute_result",
     "metadata": {}
    }
   ],
   "source": [
    "def pattern5(n):\n",
    "    \"\"\" \n",
    "    return  \"\" if n <=0 else '\\n'.join([str(x)*x for x in range(1, n+1, 2))\n",
    "    \"\"\"\n",
    "    return  \"\" if n <=0 else '\\n'.join(['{0}'.format(x)*x for x in range(1, n+1) if x % 2 == 1])\n",
    "\n",
    "def pattern4(n):\n",
    "    return '\\n'.join(''.join(str(j) for j in range(i, n+1)) for i in range(1, n+1))   \n",
    "\n",
    "def pattern3(n):\n",
    "    return '\\n'.join(''.join(str(j) for j in reversed(range(i,n+1)))  for i in reversed(range(1, n+1)))\n",
    "pattern3(1)\n",
    "\n",
    "def pattern2(n):\n",
    "    return '\\n'.join(''.join(str(j) for j in reversed(range(i,n+1))) for i in range(1, n+1))"
   ]
  },
  {
   "cell_type": "code",
   "execution_count": null,
   "metadata": {},
   "outputs": [],
   "source": [
    "'''def createDict(keys, values):\n",
    "    return dict(zip(keys, values + [None]*len(keys)))'''\n",
    "\n",
    "def createDict(keys, values):\n",
    "    if len(keys)>len(values):\n",
    "        for i in range(1, len(keys)-len(values)+1):\n",
    "            values.append(None)\n",
    "    return dict(zip(keys,values))"
   ]
  },
  {
   "cell_type": "code",
   "execution_count": 5,
   "metadata": {},
   "outputs": [
    {
     "name": "stdout",
     "output_type": "stream",
     "text": [
      "1110101 0010001\n"
     ]
    },
    {
     "data": {
      "text/plain": [
       "3"
      ]
     },
     "execution_count": 5,
     "output_type": "execute_result",
     "metadata": {}
    }
   ],
   "source": [
    "'''Расстояние Хэмминга между двумя двоичными числами \n",
    "\n",
    "def checkio(n, m):\n",
    "    return bin(n ^ m).count('1')\n",
    "\n",
    "'''\n",
    "\n",
    "def ten_sys(digit):\n",
    "    answer = ''\n",
    "    while digit > 0:\n",
    "        answer += str(digit % 2)\n",
    "        digit = digit // 2\n",
    "    return  answer[::-1]\n",
    "\n",
    "def diff(n1,n2):  \n",
    "    if len(n1) > len(n2):\n",
    "        n2 = (len(n1)-len(n2)) * '0' + n2\n",
    "    elif len(n2) > len(n1):\n",
    "        n1 = (len(n2)-len(n1)) * '0' + n1\n",
    "    print(n1,n2)\n",
    "    ans = 0\n",
    "    for index,value in enumerate(n1):\n",
    "        #print(int(value)-int(n2[index]))\n",
    "        ans += abs(int(value)-int(n2[index]))\n",
    "    return ans\n",
    "\n",
    "def checkio(n, m):\n",
    "    return diff(ten_sys(n),ten_sys(m))\n",
    "\n",
    "checkio(117, 17)"
   ]
  }
 ],
 "metadata": {
  "kernelspec": {
   "display_name": "Python 3",
   "language": "python",
   "name": "python3"
  },
  "language_info": {
   "codemirror_mode": {
    "name": "ipython",
    "version": 3.0
   },
   "file_extension": ".py",
   "mimetype": "text/x-python",
   "name": "python",
   "nbconvert_exporter": "python",
   "pygments_lexer": "ipython3",
   "version": "3.4.1"
  }
 },
 "nbformat": 4,
 "nbformat_minor": 0
}